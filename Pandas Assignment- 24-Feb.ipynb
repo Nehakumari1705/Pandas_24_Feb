{
 "cells": [
  {
   "cell_type": "markdown",
   "id": "edb6e4cf",
   "metadata": {},
   "source": [
    "#### Q1. List any five functions of the pandas library with execution.\n",
    "\n",
    "#### Ans-  Here are five functions from the pandas library along with their execution examples:\n",
    "\n",
    "#### 1. read_csv(): Used to read data from a CSV file into a pandas DataFrame."
   ]
  },
  {
   "cell_type": "code",
   "execution_count": 10,
   "id": "949d7d7c",
   "metadata": {},
   "outputs": [
    {
     "name": "stdout",
     "output_type": "stream",
     "text": [
      "     cgpa  package\n",
      "0    6.89     3.26\n",
      "1    5.12     1.98\n",
      "2    7.82     3.25\n",
      "3    7.42     3.67\n",
      "4    6.94     3.57\n",
      "..    ...      ...\n",
      "195  6.93     2.46\n",
      "196  5.89     2.57\n",
      "197  7.21     3.24\n",
      "198  7.63     3.96\n",
      "199  6.22     2.33\n",
      "\n",
      "[200 rows x 2 columns]\n"
     ]
    }
   ],
   "source": [
    "import pandas as pd\n",
    "\n",
    "# Reading a CSV file into a DataFrame\n",
    "df = pd.read_csv('placement.csv')\n",
    "print(df)"
   ]
  },
  {
   "cell_type": "markdown",
   "id": "b0a64f4b",
   "metadata": {},
   "source": [
    "#### 2. head(): Displays the first few rows of a DataFrame (default: 5 rows)."
   ]
  },
  {
   "cell_type": "code",
   "execution_count": 11,
   "id": "a8ef72c0",
   "metadata": {},
   "outputs": [
    {
     "data": {
      "text/html": [
       "<div>\n",
       "<style scoped>\n",
       "    .dataframe tbody tr th:only-of-type {\n",
       "        vertical-align: middle;\n",
       "    }\n",
       "\n",
       "    .dataframe tbody tr th {\n",
       "        vertical-align: top;\n",
       "    }\n",
       "\n",
       "    .dataframe thead th {\n",
       "        text-align: right;\n",
       "    }\n",
       "</style>\n",
       "<table border=\"1\" class=\"dataframe\">\n",
       "  <thead>\n",
       "    <tr style=\"text-align: right;\">\n",
       "      <th></th>\n",
       "      <th>cgpa</th>\n",
       "      <th>package</th>\n",
       "    </tr>\n",
       "  </thead>\n",
       "  <tbody>\n",
       "    <tr>\n",
       "      <th>0</th>\n",
       "      <td>6.89</td>\n",
       "      <td>3.26</td>\n",
       "    </tr>\n",
       "    <tr>\n",
       "      <th>1</th>\n",
       "      <td>5.12</td>\n",
       "      <td>1.98</td>\n",
       "    </tr>\n",
       "    <tr>\n",
       "      <th>2</th>\n",
       "      <td>7.82</td>\n",
       "      <td>3.25</td>\n",
       "    </tr>\n",
       "    <tr>\n",
       "      <th>3</th>\n",
       "      <td>7.42</td>\n",
       "      <td>3.67</td>\n",
       "    </tr>\n",
       "    <tr>\n",
       "      <th>4</th>\n",
       "      <td>6.94</td>\n",
       "      <td>3.57</td>\n",
       "    </tr>\n",
       "  </tbody>\n",
       "</table>\n",
       "</div>"
      ],
      "text/plain": [
       "   cgpa  package\n",
       "0  6.89     3.26\n",
       "1  5.12     1.98\n",
       "2  7.82     3.25\n",
       "3  7.42     3.67\n",
       "4  6.94     3.57"
      ]
     },
     "execution_count": 11,
     "metadata": {},
     "output_type": "execute_result"
    }
   ],
   "source": [
    "df.head()"
   ]
  },
  {
   "cell_type": "markdown",
   "id": "51cec37d",
   "metadata": {},
   "source": [
    "#### 3. info(): Provides information about a DataFrame, including data types and memory "
   ]
  },
  {
   "cell_type": "code",
   "execution_count": 12,
   "id": "1b1f41c9",
   "metadata": {},
   "outputs": [
    {
     "name": "stdout",
     "output_type": "stream",
     "text": [
      "<class 'pandas.core.frame.DataFrame'>\n",
      "RangeIndex: 200 entries, 0 to 199\n",
      "Data columns (total 2 columns):\n",
      " #   Column   Non-Null Count  Dtype  \n",
      "---  ------   --------------  -----  \n",
      " 0   cgpa     200 non-null    float64\n",
      " 1   package  200 non-null    float64\n",
      "dtypes: float64(2)\n",
      "memory usage: 3.2 KB\n"
     ]
    }
   ],
   "source": [
    "df.info()"
   ]
  },
  {
   "cell_type": "markdown",
   "id": "b1c7e8d8",
   "metadata": {},
   "source": [
    "#### 4. column : to know which coloumn is present"
   ]
  },
  {
   "cell_type": "code",
   "execution_count": 20,
   "id": "f043243e",
   "metadata": {},
   "outputs": [
    {
     "data": {
      "text/plain": [
       "Index(['cgpa', 'package'], dtype='object')"
      ]
     },
     "execution_count": 20,
     "metadata": {},
     "output_type": "execute_result"
    }
   ],
   "source": [
    "df.columns"
   ]
  },
  {
   "cell_type": "markdown",
   "id": "bccb5b5c",
   "metadata": {},
   "source": [
    "#### 5. tail(): to know the last five records."
   ]
  },
  {
   "cell_type": "code",
   "execution_count": 21,
   "id": "be4db6ad",
   "metadata": {},
   "outputs": [
    {
     "data": {
      "text/html": [
       "<div>\n",
       "<style scoped>\n",
       "    .dataframe tbody tr th:only-of-type {\n",
       "        vertical-align: middle;\n",
       "    }\n",
       "\n",
       "    .dataframe tbody tr th {\n",
       "        vertical-align: top;\n",
       "    }\n",
       "\n",
       "    .dataframe thead th {\n",
       "        text-align: right;\n",
       "    }\n",
       "</style>\n",
       "<table border=\"1\" class=\"dataframe\">\n",
       "  <thead>\n",
       "    <tr style=\"text-align: right;\">\n",
       "      <th></th>\n",
       "      <th>cgpa</th>\n",
       "      <th>package</th>\n",
       "    </tr>\n",
       "  </thead>\n",
       "  <tbody>\n",
       "    <tr>\n",
       "      <th>195</th>\n",
       "      <td>6.93</td>\n",
       "      <td>2.46</td>\n",
       "    </tr>\n",
       "    <tr>\n",
       "      <th>196</th>\n",
       "      <td>5.89</td>\n",
       "      <td>2.57</td>\n",
       "    </tr>\n",
       "    <tr>\n",
       "      <th>197</th>\n",
       "      <td>7.21</td>\n",
       "      <td>3.24</td>\n",
       "    </tr>\n",
       "    <tr>\n",
       "      <th>198</th>\n",
       "      <td>7.63</td>\n",
       "      <td>3.96</td>\n",
       "    </tr>\n",
       "    <tr>\n",
       "      <th>199</th>\n",
       "      <td>6.22</td>\n",
       "      <td>2.33</td>\n",
       "    </tr>\n",
       "  </tbody>\n",
       "</table>\n",
       "</div>"
      ],
      "text/plain": [
       "     cgpa  package\n",
       "195  6.93     2.46\n",
       "196  5.89     2.57\n",
       "197  7.21     3.24\n",
       "198  7.63     3.96\n",
       "199  6.22     2.33"
      ]
     },
     "execution_count": 21,
     "metadata": {},
     "output_type": "execute_result"
    }
   ],
   "source": [
    "df.tail()"
   ]
  },
  {
   "cell_type": "markdown",
   "id": "c07a7473",
   "metadata": {},
   "source": [
    "#### Q2. Given a Pandas DataFrame df with columns 'A', 'B', and 'C', write a Python function to re-index the DataFrame with a new index that starts from 1 and increments by 2 for each row."
   ]
  },
  {
   "cell_type": "code",
   "execution_count": 24,
   "id": "68bb1bd3",
   "metadata": {},
   "outputs": [
    {
     "name": "stdout",
     "output_type": "stream",
     "text": [
      "    A   B    C\n",
      "1  10  50   90\n",
      "3  20  60  100\n",
      "5  30  70  110\n",
      "7  40  80  120\n"
     ]
    }
   ],
   "source": [
    "import pandas as pd\n",
    "\n",
    "# Example DataFrame\n",
    "data = {'A': [10, 20, 30, 40],\n",
    "        'B': [50, 60, 70, 80],\n",
    "        'C': [90, 100, 110, 120]}\n",
    "\n",
    "df = pd.DataFrame(data)\n",
    "\n",
    "# Reindexing the DataFrame\n",
    "df_reindexed = df.reset_index(drop=True)\n",
    "df_reindexed.index = df_reindexed.index * 2 + 1\n",
    "\n",
    "print(df_reindexed)\n"
   ]
  },
  {
   "cell_type": "markdown",
   "id": "a9d431ce",
   "metadata": {},
   "source": [
    "#### Q3. You have a Pandas DataFrame df with a column named 'Values'. Write a Python function that iterates over the DataFrame and calculates the sum of the first three values in the 'Values' column. The function should print the sum to the console.\n",
    "\n",
    "For example, if the 'Values' column of df contains the values [10, 20, 30, 40, 50], your function should\n",
    "calculate and print the sum of the first three values, which is 60."
   ]
  },
  {
   "cell_type": "code",
   "execution_count": 15,
   "id": "3aef1a18",
   "metadata": {},
   "outputs": [
    {
     "name": "stdout",
     "output_type": "stream",
     "text": [
      "sum_of_first_three_number: 60\n"
     ]
    }
   ],
   "source": [
    "import pandas as pd\n",
    "\n",
    "data={\"values\":[10,20,30,40,50]}\n",
    "\n",
    "df=pd.DataFrame(data)\n",
    "\n",
    "sum_of_first_three=df[\"values\"].head(3).sum()\n",
    "print(\"sum_of_first_three_number:\",sum_of_first_three)"
   ]
  },
  {
   "cell_type": "markdown",
   "id": "10c3243f",
   "metadata": {},
   "source": [
    "#### Q4. Given a Pandas DataFrame df with a column 'Text', write a Python function to create a new column 'Word_Count' that contains the number of words in each row of the 'Text' column."
   ]
  },
  {
   "cell_type": "code",
   "execution_count": 17,
   "id": "ea195d9a",
   "metadata": {},
   "outputs": [
    {
     "name": "stdout",
     "output_type": "stream",
     "text": [
      "                                              Text  Word_Count\n",
      "0                       This is a sample sentence.           5\n",
      "1  Pandas is a powerful library for data analysis.           8\n",
      "2         Python programming is fun and versatile.           6\n"
     ]
    }
   ],
   "source": [
    "import pandas as pd\n",
    "\n",
    "# Example DataFrame\n",
    "data = {'Text': ['This is a sample sentence.',\n",
    "                 'Pandas is a powerful library for data analysis.',\n",
    "                 'Python programming is fun and versatile.']}\n",
    "\n",
    "df = pd.DataFrame(data)\n",
    "\n",
    "# Add a new 'Word_Count' column\n",
    "df['Word_Count'] = df['Text'].str.split().apply(len)\n",
    "\n",
    "print(df)\n"
   ]
  },
  {
   "cell_type": "code",
   "execution_count": 19,
   "id": "30d6c141",
   "metadata": {},
   "outputs": [],
   "source": [
    "import pandas as pd\n",
    "\n",
    "data={\"Text\":['My name is Neha.',\n",
    "      \"I am learning Data Science Course in Pwskills\",\n",
    "      \"I am facing a lot of difficulties in understanding Machine learning and deep learning\"]}\n",
    "df=pd.DataFrame(data)\n",
    "\n",
    "df[\"word_count\"]=df[\"Text\"].str.split().apply(len)\n"
   ]
  },
  {
   "cell_type": "code",
   "execution_count": 20,
   "id": "9152a7a4",
   "metadata": {},
   "outputs": [
    {
     "data": {
      "text/plain": [
       "0     4\n",
       "1     8\n",
       "2    14\n",
       "Name: word_count, dtype: int64"
      ]
     },
     "execution_count": 20,
     "metadata": {},
     "output_type": "execute_result"
    }
   ],
   "source": [
    "df[\"word_count\"]"
   ]
  },
  {
   "cell_type": "code",
   "execution_count": 24,
   "id": "2466e7f8",
   "metadata": {},
   "outputs": [
    {
     "data": {
      "text/html": [
       "<div>\n",
       "<style scoped>\n",
       "    .dataframe tbody tr th:only-of-type {\n",
       "        vertical-align: middle;\n",
       "    }\n",
       "\n",
       "    .dataframe tbody tr th {\n",
       "        vertical-align: top;\n",
       "    }\n",
       "\n",
       "    .dataframe thead th {\n",
       "        text-align: right;\n",
       "    }\n",
       "</style>\n",
       "<table border=\"1\" class=\"dataframe\">\n",
       "  <thead>\n",
       "    <tr style=\"text-align: right;\">\n",
       "      <th></th>\n",
       "      <th>Text</th>\n",
       "      <th>word_count</th>\n",
       "    </tr>\n",
       "  </thead>\n",
       "  <tbody>\n",
       "    <tr>\n",
       "      <th>0</th>\n",
       "      <td>My name is Neha.</td>\n",
       "      <td>4</td>\n",
       "    </tr>\n",
       "    <tr>\n",
       "      <th>1</th>\n",
       "      <td>I am learning Data Science Course in Pwskills</td>\n",
       "      <td>8</td>\n",
       "    </tr>\n",
       "    <tr>\n",
       "      <th>2</th>\n",
       "      <td>I am facing a lot of difficulties in understan...</td>\n",
       "      <td>14</td>\n",
       "    </tr>\n",
       "  </tbody>\n",
       "</table>\n",
       "</div>"
      ],
      "text/plain": [
       "                                                Text  word_count\n",
       "0                                   My name is Neha.           4\n",
       "1      I am learning Data Science Course in Pwskills           8\n",
       "2  I am facing a lot of difficulties in understan...          14"
      ]
     },
     "execution_count": 24,
     "metadata": {},
     "output_type": "execute_result"
    }
   ],
   "source": [
    "df"
   ]
  },
  {
   "cell_type": "markdown",
   "id": "b8547620",
   "metadata": {},
   "source": [
    "#### Q5. How are DataFrame.size() and DataFrame.shape() different?"
   ]
  },
  {
   "cell_type": "markdown",
   "id": "ed52fb00",
   "metadata": {},
   "source": [
    "#### Ans- Both DataFrame.size and DataFrame.shape are attributes of a Pandas DataFrame that provide information about the dimensions of the DataFrame, but they provide different types of information:\n",
    "\n",
    "1. DataFrame.size: This attribute returns the total number of elements in the DataFrame. It gives you the total count of cells in the DataFrame, which is the product of the number of rows and the number of columns.\n",
    "\n",
    "2. DataFrame.shape: This attribute returns a tuple representing the dimensions of the DataFrame. The tuple contains two values: the number of rows and the number of columns.\n",
    "\n",
    "Lets see with examples:"
   ]
  },
  {
   "cell_type": "code",
   "execution_count": 28,
   "id": "2af4628a",
   "metadata": {},
   "outputs": [
    {
     "data": {
      "text/plain": [
       "6"
      ]
     },
     "execution_count": 28,
     "metadata": {},
     "output_type": "execute_result"
    }
   ],
   "source": [
    "df.size"
   ]
  },
  {
   "cell_type": "code",
   "execution_count": 29,
   "id": "e681e2a1",
   "metadata": {},
   "outputs": [
    {
     "data": {
      "text/plain": [
       "(3, 2)"
      ]
     },
     "execution_count": 29,
     "metadata": {},
     "output_type": "execute_result"
    }
   ],
   "source": [
    "df.shape"
   ]
  },
  {
   "cell_type": "markdown",
   "id": "fb47e159",
   "metadata": {},
   "source": [
    "#### Q6. Which function of pandas do we use to read an excel file?"
   ]
  },
  {
   "cell_type": "markdown",
   "id": "6d30ccd6",
   "metadata": {},
   "source": [
    "#### Ans- To read an Excel file using pandas, you can use the pd.read_excel() function. This function allows you to read data from an Excel file (both .xls and .xlsx formats) and create a pandas DataFrame."
   ]
  },
  {
   "cell_type": "code",
   "execution_count": 30,
   "id": "152db2a7",
   "metadata": {},
   "outputs": [
    {
     "data": {
      "text/html": [
       "<div>\n",
       "<style scoped>\n",
       "    .dataframe tbody tr th:only-of-type {\n",
       "        vertical-align: middle;\n",
       "    }\n",
       "\n",
       "    .dataframe tbody tr th {\n",
       "        vertical-align: top;\n",
       "    }\n",
       "\n",
       "    .dataframe thead th {\n",
       "        text-align: right;\n",
       "    }\n",
       "</style>\n",
       "<table border=\"1\" class=\"dataframe\">\n",
       "  <thead>\n",
       "    <tr style=\"text-align: right;\">\n",
       "      <th></th>\n",
       "      <th>Unnamed: 0</th>\n",
       "      <th>Country</th>\n",
       "      <th>CODE</th>\n",
       "    </tr>\n",
       "  </thead>\n",
       "  <tbody>\n",
       "    <tr>\n",
       "      <th>0</th>\n",
       "      <td>NaN</td>\n",
       "      <td>Albania</td>\n",
       "      <td>UNC - 83</td>\n",
       "    </tr>\n",
       "    <tr>\n",
       "      <th>1</th>\n",
       "      <td>NaN</td>\n",
       "      <td>Algeria</td>\n",
       "      <td>UNC - 109</td>\n",
       "    </tr>\n",
       "    <tr>\n",
       "      <th>2</th>\n",
       "      <td>NaN</td>\n",
       "      <td>Angola</td>\n",
       "      <td>UNC - 291</td>\n",
       "    </tr>\n",
       "    <tr>\n",
       "      <th>3</th>\n",
       "      <td>NaN</td>\n",
       "      <td>Antigua and Barbuda</td>\n",
       "      <td>UNC - 127</td>\n",
       "    </tr>\n",
       "    <tr>\n",
       "      <th>4</th>\n",
       "      <td>NaN</td>\n",
       "      <td>Argentina</td>\n",
       "      <td>UNC - 252</td>\n",
       "    </tr>\n",
       "    <tr>\n",
       "      <th>...</th>\n",
       "      <td>...</td>\n",
       "      <td>...</td>\n",
       "      <td>...</td>\n",
       "    </tr>\n",
       "    <tr>\n",
       "      <th>187</th>\n",
       "      <td>NaN</td>\n",
       "      <td>Afghanistan</td>\n",
       "      <td>UNC - 68</td>\n",
       "    </tr>\n",
       "    <tr>\n",
       "      <th>188</th>\n",
       "      <td>NaN</td>\n",
       "      <td>Iraq</td>\n",
       "      <td>UNC - 145</td>\n",
       "    </tr>\n",
       "    <tr>\n",
       "      <th>189</th>\n",
       "      <td>NaN</td>\n",
       "      <td>Nauru</td>\n",
       "      <td>UNC - 288</td>\n",
       "    </tr>\n",
       "    <tr>\n",
       "      <th>190</th>\n",
       "      <td>NaN</td>\n",
       "      <td>San Marino</td>\n",
       "      <td>UNC - 81</td>\n",
       "    </tr>\n",
       "    <tr>\n",
       "      <th>191</th>\n",
       "      <td>NaN</td>\n",
       "      <td>Tuvalu</td>\n",
       "      <td>UNC - 218</td>\n",
       "    </tr>\n",
       "  </tbody>\n",
       "</table>\n",
       "<p>192 rows × 3 columns</p>\n",
       "</div>"
      ],
      "text/plain": [
       "     Unnamed: 0              Country       CODE\n",
       "0           NaN              Albania   UNC - 83\n",
       "1           NaN              Algeria  UNC - 109\n",
       "2           NaN               Angola  UNC - 291\n",
       "3           NaN  Antigua and Barbuda  UNC - 127\n",
       "4           NaN            Argentina  UNC - 252\n",
       "..          ...                  ...        ...\n",
       "187         NaN          Afghanistan   UNC - 68\n",
       "188         NaN                 Iraq  UNC - 145\n",
       "189         NaN                Nauru  UNC - 288\n",
       "190         NaN           San Marino   UNC - 81\n",
       "191         NaN               Tuvalu  UNC - 218\n",
       "\n",
       "[192 rows x 3 columns]"
      ]
     },
     "execution_count": 30,
     "metadata": {},
     "output_type": "execute_result"
    }
   ],
   "source": [
    "import pandas as pd\n",
    "\n",
    "df=pd.read_excel(\"country code.xlsx\")\n",
    "df"
   ]
  },
  {
   "cell_type": "markdown",
   "id": "8fc3fa9f",
   "metadata": {},
   "source": [
    "#### Q7. You have a Pandas DataFrame df that contains a column named 'Email' that contains email addresses in the format 'username@domain.com'. Write a Python function that creates a new column 'Username' in df that contains only the username part of each email address.\n",
    "\n",
    "The username is the part of the email address that appears before the '@' symbol. For example, if the\n",
    "email address is 'john.doe@example.com', the 'Username' column should contain 'john.doe'. Your\n",
    "function should extract the username from each email address and store it in the new 'Username'\n",
    "column."
   ]
  },
  {
   "cell_type": "code",
   "execution_count": 34,
   "id": "20566c38",
   "metadata": {},
   "outputs": [
    {
     "data": {
      "text/html": [
       "<div>\n",
       "<style scoped>\n",
       "    .dataframe tbody tr th:only-of-type {\n",
       "        vertical-align: middle;\n",
       "    }\n",
       "\n",
       "    .dataframe tbody tr th {\n",
       "        vertical-align: top;\n",
       "    }\n",
       "\n",
       "    .dataframe thead th {\n",
       "        text-align: right;\n",
       "    }\n",
       "</style>\n",
       "<table border=\"1\" class=\"dataframe\">\n",
       "  <thead>\n",
       "    <tr style=\"text-align: right;\">\n",
       "      <th></th>\n",
       "      <th>Email_id</th>\n",
       "    </tr>\n",
       "  </thead>\n",
       "  <tbody>\n",
       "    <tr>\n",
       "      <th>0</th>\n",
       "      <td>nehunk1997@gmail.com</td>\n",
       "    </tr>\n",
       "    <tr>\n",
       "      <th>1</th>\n",
       "      <td>nehakumari1998@gmail.com</td>\n",
       "    </tr>\n",
       "    <tr>\n",
       "      <th>2</th>\n",
       "      <td>anjanashakya04@gmail.com</td>\n",
       "    </tr>\n",
       "    <tr>\n",
       "      <th>3</th>\n",
       "      <td>dev32@gmail.com</td>\n",
       "    </tr>\n",
       "  </tbody>\n",
       "</table>\n",
       "</div>"
      ],
      "text/plain": [
       "                   Email_id\n",
       "0      nehunk1997@gmail.com\n",
       "1  nehakumari1998@gmail.com\n",
       "2  anjanashakya04@gmail.com\n",
       "3           dev32@gmail.com"
      ]
     },
     "execution_count": 34,
     "metadata": {},
     "output_type": "execute_result"
    }
   ],
   "source": [
    "import pandas as pd\n",
    "\n",
    "data={\"Email_id\":[\"nehunk1997@gmail.com\",\n",
    "       \"nehakumari1998@gmail.com\",\n",
    "       \"anjanashakya04@gmail.com\",\n",
    "      \"dev32@gmail.com\"]}\n",
    "\n",
    "pd.DataFrame(data)"
   ]
  },
  {
   "cell_type": "code",
   "execution_count": 35,
   "id": "bd4dc31c",
   "metadata": {},
   "outputs": [],
   "source": [
    "df=pd.DataFrame(data)\n",
    "\n",
    "df[\"Username\"]=df[\"Email_id\"].str.split(\"@\")"
   ]
  },
  {
   "cell_type": "code",
   "execution_count": 36,
   "id": "97b641ca",
   "metadata": {},
   "outputs": [
    {
     "data": {
      "text/plain": [
       "0        [nehunk1997, gmail.com]\n",
       "1    [nehakumari1998, gmail.com]\n",
       "2    [anjanashakya04, gmail.com]\n",
       "3             [dev32, gmail.com]\n",
       "Name: Username, dtype: object"
      ]
     },
     "execution_count": 36,
     "metadata": {},
     "output_type": "execute_result"
    }
   ],
   "source": [
    "df[\"Username\"]"
   ]
  },
  {
   "cell_type": "code",
   "execution_count": 37,
   "id": "67bb858b",
   "metadata": {},
   "outputs": [],
   "source": [
    "\n",
    "df[\"Username\"]=df[\"Email_id\"].str.split(\"@\").str[0]"
   ]
  },
  {
   "cell_type": "code",
   "execution_count": 38,
   "id": "2a17dd0a",
   "metadata": {},
   "outputs": [
    {
     "data": {
      "text/plain": [
       "0        nehunk1997\n",
       "1    nehakumari1998\n",
       "2    anjanashakya04\n",
       "3             dev32\n",
       "Name: Username, dtype: object"
      ]
     },
     "execution_count": 38,
     "metadata": {},
     "output_type": "execute_result"
    }
   ],
   "source": [
    "df[\"Username\"]"
   ]
  },
  {
   "cell_type": "code",
   "execution_count": 39,
   "id": "b28b375f",
   "metadata": {},
   "outputs": [
    {
     "data": {
      "text/html": [
       "<div>\n",
       "<style scoped>\n",
       "    .dataframe tbody tr th:only-of-type {\n",
       "        vertical-align: middle;\n",
       "    }\n",
       "\n",
       "    .dataframe tbody tr th {\n",
       "        vertical-align: top;\n",
       "    }\n",
       "\n",
       "    .dataframe thead th {\n",
       "        text-align: right;\n",
       "    }\n",
       "</style>\n",
       "<table border=\"1\" class=\"dataframe\">\n",
       "  <thead>\n",
       "    <tr style=\"text-align: right;\">\n",
       "      <th></th>\n",
       "      <th>Email_id</th>\n",
       "      <th>Username</th>\n",
       "    </tr>\n",
       "  </thead>\n",
       "  <tbody>\n",
       "    <tr>\n",
       "      <th>0</th>\n",
       "      <td>nehunk1997@gmail.com</td>\n",
       "      <td>nehunk1997</td>\n",
       "    </tr>\n",
       "    <tr>\n",
       "      <th>1</th>\n",
       "      <td>nehakumari1998@gmail.com</td>\n",
       "      <td>nehakumari1998</td>\n",
       "    </tr>\n",
       "    <tr>\n",
       "      <th>2</th>\n",
       "      <td>anjanashakya04@gmail.com</td>\n",
       "      <td>anjanashakya04</td>\n",
       "    </tr>\n",
       "    <tr>\n",
       "      <th>3</th>\n",
       "      <td>dev32@gmail.com</td>\n",
       "      <td>dev32</td>\n",
       "    </tr>\n",
       "  </tbody>\n",
       "</table>\n",
       "</div>"
      ],
      "text/plain": [
       "                   Email_id        Username\n",
       "0      nehunk1997@gmail.com      nehunk1997\n",
       "1  nehakumari1998@gmail.com  nehakumari1998\n",
       "2  anjanashakya04@gmail.com  anjanashakya04\n",
       "3           dev32@gmail.com           dev32"
      ]
     },
     "execution_count": 39,
     "metadata": {},
     "output_type": "execute_result"
    }
   ],
   "source": [
    "df"
   ]
  },
  {
   "cell_type": "markdown",
   "id": "77cb57c5",
   "metadata": {},
   "source": [
    "#### Q8. You have a Pandas DataFrame df with columns 'A', 'B', and 'C'. Write a Python function that selects all rows where the value in column 'A' is greater than 5 and the value in column 'B' is less than 10. The function should return a new DataFrame that contains only the selected rows.\n",
    "\n"
   ]
  },
  {
   "cell_type": "code",
   "execution_count": 43,
   "id": "559aac7a",
   "metadata": {},
   "outputs": [],
   "source": [
    "# For example, if df contains the following values:\n",
    "#   A B C\n",
    "# 0 3 5 1\n",
    "# 1 8 2 7\n",
    "# 2 6 9 4\n",
    "# 3 2 3 5\n",
    "# 4 9 1 2\n",
    "\n",
    "\n",
    "# Your function should select the following rows: A B C\n",
    "\n",
    "# 1 8 2 7\n",
    "# 4 9 1 2\n",
    "# The function should return a new DataFrame that contains only the selected rows."
   ]
  },
  {
   "cell_type": "code",
   "execution_count": 53,
   "id": "790149d1",
   "metadata": {},
   "outputs": [
    {
     "data": {
      "text/html": [
       "<div>\n",
       "<style scoped>\n",
       "    .dataframe tbody tr th:only-of-type {\n",
       "        vertical-align: middle;\n",
       "    }\n",
       "\n",
       "    .dataframe tbody tr th {\n",
       "        vertical-align: top;\n",
       "    }\n",
       "\n",
       "    .dataframe thead th {\n",
       "        text-align: right;\n",
       "    }\n",
       "</style>\n",
       "<table border=\"1\" class=\"dataframe\">\n",
       "  <thead>\n",
       "    <tr style=\"text-align: right;\">\n",
       "      <th></th>\n",
       "      <th>A</th>\n",
       "      <th>B</th>\n",
       "      <th>C</th>\n",
       "    </tr>\n",
       "  </thead>\n",
       "  <tbody>\n",
       "    <tr>\n",
       "      <th>1</th>\n",
       "      <td>8</td>\n",
       "      <td>2</td>\n",
       "      <td>7</td>\n",
       "    </tr>\n",
       "    <tr>\n",
       "      <th>2</th>\n",
       "      <td>6</td>\n",
       "      <td>9</td>\n",
       "      <td>4</td>\n",
       "    </tr>\n",
       "    <tr>\n",
       "      <th>4</th>\n",
       "      <td>9</td>\n",
       "      <td>1</td>\n",
       "      <td>2</td>\n",
       "    </tr>\n",
       "  </tbody>\n",
       "</table>\n",
       "</div>"
      ],
      "text/plain": [
       "   A  B  C\n",
       "1  8  2  7\n",
       "2  6  9  4\n",
       "4  9  1  2"
      ]
     },
     "execution_count": 53,
     "metadata": {},
     "output_type": "execute_result"
    }
   ],
   "source": [
    "import pandas as pd\n",
    "\n",
    "data = {'A': [3, 8, 6, 2, 9],\n",
    "        'B': [5, 2, 9, 3, 1],\n",
    "        'C': [1, 7, 4, 5, 2]}\n",
    "\n",
    "df = pd.DataFrame(data)\n",
    "\n",
    "selected_rows=df[(df[\"A\"]>5) & (df[\"B\"]<10)]\n",
    "\n",
    "selected_rows"
   ]
  },
  {
   "cell_type": "markdown",
   "id": "6784db96",
   "metadata": {},
   "source": [
    "#### Q9. Given a Pandas DataFrame df with a column 'Values', write a Python function to calculate the mean, median, and standard deviation of the values in the 'Values' column."
   ]
  },
  {
   "cell_type": "code",
   "execution_count": 58,
   "id": "ddadef7e",
   "metadata": {},
   "outputs": [
    {
     "name": "stdout",
     "output_type": "stream",
     "text": [
      "mean value is  42.45454545454545\n",
      "median value is  40.0\n",
      "standard deviation is  24.77645509899928\n"
     ]
    }
   ],
   "source": [
    "import pandas as pd\n",
    "\n",
    "data={\"values\":[10,20,30,40,50,60,70,80,5,64,38]}\n",
    "\n",
    "df=pd.DataFrame(data)\n",
    "\n",
    "mean_value=df[\"values\"].mean()\n",
    "median_value=df[\"values\"].median()\n",
    "standard_deviation=df[\"values\"].std()\n",
    "\n",
    "print(\"mean value is \",mean_value)\n",
    "print(\"median value is \",median_value)\n",
    "print(\"standard deviation is \",standard_deviation)"
   ]
  },
  {
   "cell_type": "markdown",
   "id": "e8b2c1c2",
   "metadata": {},
   "source": [
    "#### Q10. Given a Pandas DataFrame df with a column 'Sales' and a column 'Date', write a Python function to create a new column 'MovingAverage' that contains the moving average of the sales for the past 7 days for each row in the DataFrame. The moving average should be calculated using a window of size 7 and should include the current day."
   ]
  },
  {
   "cell_type": "code",
   "execution_count": 60,
   "id": "60be7549",
   "metadata": {},
   "outputs": [
    {
     "name": "stdout",
     "output_type": "stream",
     "text": [
      "         Date  Sales  MovingAverage\n",
      "0  2023-08-01     10      10.000000\n",
      "1  2023-08-02     20      15.000000\n",
      "2  2023-08-03     15      15.000000\n",
      "3  2023-08-04     25      17.500000\n",
      "4  2023-08-05     30      20.000000\n",
      "5  2023-08-06     40      23.333333\n",
      "6  2023-08-07     35      25.000000\n",
      "7  2023-08-08     45      30.000000\n",
      "8  2023-08-09     50      34.285714\n",
      "9  2023-08-10     60      40.714286\n",
      "10 2023-08-11     55      45.000000\n",
      "11 2023-08-12     65      50.000000\n",
      "12 2023-08-13     70      54.285714\n",
      "13 2023-08-14     75      60.000000\n"
     ]
    }
   ],
   "source": [
    "import pandas as pd\n",
    "\n",
    "# Example DataFrame\n",
    "data = {'Date': pd.date_range(start='2023-08-01', periods=14),\n",
    "        'Sales': [10, 20, 15, 25, 30, 40, 35, 45, 50, 60, 55, 65, 70, 75]}\n",
    "\n",
    "df = pd.DataFrame(data)\n",
    "\n",
    "# Calculate and add the 'MovingAverage' column\n",
    "df['MovingAverage'] = df['Sales'].rolling(window=7, min_periods=1).mean()\n",
    "\n",
    "print(df)\n"
   ]
  },
  {
   "cell_type": "markdown",
   "id": "6fab6193",
   "metadata": {},
   "source": [
    "#### Q11. You have a Pandas DataFrame df with a column 'Date'. Write a Python function that creates a new column 'Weekday' in the DataFrame. The 'Weekday' column should contain the weekday name (e.g. Monday, Tuesday) corresponding to each date in the 'Date' column."
   ]
  },
  {
   "cell_type": "code",
   "execution_count": 61,
   "id": "a0c5fa5e",
   "metadata": {},
   "outputs": [],
   "source": [
    "#For example, if df contains the following values:\n",
    "\n",
    "# Date\n",
    "# 0 2023-01-01\n",
    "# 1 2023-01-02\n",
    "# 2 2023-01-03\n",
    "# 3 2023-01-04\n",
    "# 4 2023-01-05\n",
    "\n",
    "#Your function should create the following DataFrame:\n",
    "\n",
    "# Date Weekday\n",
    "# 0 2023-01-01 Sunday\n",
    "# 1 2023-01-02 Monday\n",
    "# 2 2023-01-03 Tuesday\n",
    "# 3 2023-01-04 Wednesday\n",
    "# 4 2023-01-05 Thursday\n",
    "# The function should return the modified DataFrame."
   ]
  },
  {
   "cell_type": "code",
   "execution_count": 63,
   "id": "26a857f3",
   "metadata": {},
   "outputs": [],
   "source": [
    "import pandas as pd\n",
    "\n",
    "data={\"Date\":pd.date_range(start=\"01-01-2023\",periods=10)}"
   ]
  },
  {
   "cell_type": "code",
   "execution_count": 65,
   "id": "bce1831f",
   "metadata": {},
   "outputs": [
    {
     "data": {
      "text/html": [
       "<div>\n",
       "<style scoped>\n",
       "    .dataframe tbody tr th:only-of-type {\n",
       "        vertical-align: middle;\n",
       "    }\n",
       "\n",
       "    .dataframe tbody tr th {\n",
       "        vertical-align: top;\n",
       "    }\n",
       "\n",
       "    .dataframe thead th {\n",
       "        text-align: right;\n",
       "    }\n",
       "</style>\n",
       "<table border=\"1\" class=\"dataframe\">\n",
       "  <thead>\n",
       "    <tr style=\"text-align: right;\">\n",
       "      <th></th>\n",
       "      <th>Date</th>\n",
       "    </tr>\n",
       "  </thead>\n",
       "  <tbody>\n",
       "    <tr>\n",
       "      <th>0</th>\n",
       "      <td>2023-01-01</td>\n",
       "    </tr>\n",
       "    <tr>\n",
       "      <th>1</th>\n",
       "      <td>2023-01-02</td>\n",
       "    </tr>\n",
       "    <tr>\n",
       "      <th>2</th>\n",
       "      <td>2023-01-03</td>\n",
       "    </tr>\n",
       "    <tr>\n",
       "      <th>3</th>\n",
       "      <td>2023-01-04</td>\n",
       "    </tr>\n",
       "    <tr>\n",
       "      <th>4</th>\n",
       "      <td>2023-01-05</td>\n",
       "    </tr>\n",
       "    <tr>\n",
       "      <th>5</th>\n",
       "      <td>2023-01-06</td>\n",
       "    </tr>\n",
       "    <tr>\n",
       "      <th>6</th>\n",
       "      <td>2023-01-07</td>\n",
       "    </tr>\n",
       "    <tr>\n",
       "      <th>7</th>\n",
       "      <td>2023-01-08</td>\n",
       "    </tr>\n",
       "    <tr>\n",
       "      <th>8</th>\n",
       "      <td>2023-01-09</td>\n",
       "    </tr>\n",
       "    <tr>\n",
       "      <th>9</th>\n",
       "      <td>2023-01-10</td>\n",
       "    </tr>\n",
       "  </tbody>\n",
       "</table>\n",
       "</div>"
      ],
      "text/plain": [
       "        Date\n",
       "0 2023-01-01\n",
       "1 2023-01-02\n",
       "2 2023-01-03\n",
       "3 2023-01-04\n",
       "4 2023-01-05\n",
       "5 2023-01-06\n",
       "6 2023-01-07\n",
       "7 2023-01-08\n",
       "8 2023-01-09\n",
       "9 2023-01-10"
      ]
     },
     "execution_count": 65,
     "metadata": {},
     "output_type": "execute_result"
    }
   ],
   "source": [
    "pd.DataFrame(data)"
   ]
  },
  {
   "cell_type": "code",
   "execution_count": 66,
   "id": "2b651ff0",
   "metadata": {},
   "outputs": [],
   "source": [
    "df=pd.DataFrame(data)"
   ]
  },
  {
   "cell_type": "code",
   "execution_count": 73,
   "id": "6731e63e",
   "metadata": {},
   "outputs": [],
   "source": [
    "df['Weekday'] = df['Date'].dt.day_name()"
   ]
  },
  {
   "cell_type": "code",
   "execution_count": 74,
   "id": "5647acd4",
   "metadata": {},
   "outputs": [
    {
     "data": {
      "text/html": [
       "<div>\n",
       "<style scoped>\n",
       "    .dataframe tbody tr th:only-of-type {\n",
       "        vertical-align: middle;\n",
       "    }\n",
       "\n",
       "    .dataframe tbody tr th {\n",
       "        vertical-align: top;\n",
       "    }\n",
       "\n",
       "    .dataframe thead th {\n",
       "        text-align: right;\n",
       "    }\n",
       "</style>\n",
       "<table border=\"1\" class=\"dataframe\">\n",
       "  <thead>\n",
       "    <tr style=\"text-align: right;\">\n",
       "      <th></th>\n",
       "      <th>Date</th>\n",
       "      <th>Weekday</th>\n",
       "    </tr>\n",
       "  </thead>\n",
       "  <tbody>\n",
       "    <tr>\n",
       "      <th>0</th>\n",
       "      <td>2023-01-01</td>\n",
       "      <td>Sunday</td>\n",
       "    </tr>\n",
       "    <tr>\n",
       "      <th>1</th>\n",
       "      <td>2023-01-02</td>\n",
       "      <td>Monday</td>\n",
       "    </tr>\n",
       "    <tr>\n",
       "      <th>2</th>\n",
       "      <td>2023-01-03</td>\n",
       "      <td>Tuesday</td>\n",
       "    </tr>\n",
       "    <tr>\n",
       "      <th>3</th>\n",
       "      <td>2023-01-04</td>\n",
       "      <td>Wednesday</td>\n",
       "    </tr>\n",
       "    <tr>\n",
       "      <th>4</th>\n",
       "      <td>2023-01-05</td>\n",
       "      <td>Thursday</td>\n",
       "    </tr>\n",
       "    <tr>\n",
       "      <th>5</th>\n",
       "      <td>2023-01-06</td>\n",
       "      <td>Friday</td>\n",
       "    </tr>\n",
       "    <tr>\n",
       "      <th>6</th>\n",
       "      <td>2023-01-07</td>\n",
       "      <td>Saturday</td>\n",
       "    </tr>\n",
       "    <tr>\n",
       "      <th>7</th>\n",
       "      <td>2023-01-08</td>\n",
       "      <td>Sunday</td>\n",
       "    </tr>\n",
       "    <tr>\n",
       "      <th>8</th>\n",
       "      <td>2023-01-09</td>\n",
       "      <td>Monday</td>\n",
       "    </tr>\n",
       "    <tr>\n",
       "      <th>9</th>\n",
       "      <td>2023-01-10</td>\n",
       "      <td>Tuesday</td>\n",
       "    </tr>\n",
       "  </tbody>\n",
       "</table>\n",
       "</div>"
      ],
      "text/plain": [
       "        Date    Weekday\n",
       "0 2023-01-01     Sunday\n",
       "1 2023-01-02     Monday\n",
       "2 2023-01-03    Tuesday\n",
       "3 2023-01-04  Wednesday\n",
       "4 2023-01-05   Thursday\n",
       "5 2023-01-06     Friday\n",
       "6 2023-01-07   Saturday\n",
       "7 2023-01-08     Sunday\n",
       "8 2023-01-09     Monday\n",
       "9 2023-01-10    Tuesday"
      ]
     },
     "execution_count": 74,
     "metadata": {},
     "output_type": "execute_result"
    }
   ],
   "source": [
    "df"
   ]
  },
  {
   "cell_type": "markdown",
   "id": "3c6c1821",
   "metadata": {},
   "source": [
    "#### Q12. Given a Pandas DataFrame df with a column 'Date' that contains timestamps, write a Python function to select all rows where the date is between '2023-01-01' and '2023-01-31'."
   ]
  },
  {
   "cell_type": "code",
   "execution_count": 76,
   "id": "f763d559",
   "metadata": {},
   "outputs": [
    {
     "name": "stdout",
     "output_type": "stream",
     "text": [
      "        Date  Value\n",
      "0 2023-01-01     10\n",
      "1 2023-01-15     20\n",
      "2 2023-01-25     30\n"
     ]
    }
   ],
   "source": [
    "import pandas as pd\n",
    "\n",
    "# Example DataFrame\n",
    "data = {'Date': pd.to_datetime(['2023-01-01', '2023-01-15', '2023-01-25', '2023-02-10', '2023-03-05']),\n",
    "        'Value': [10, 20, 30, 40, 50]}\n",
    "\n",
    "df = pd.DataFrame(data)\n",
    "\n",
    "# Define start and end dates\n",
    "start_date = '2023-01-01'\n",
    "end_date = '2023-01-31'\n",
    "\n",
    "# Select rows between specified dates\n",
    "selected_df = df[(df['Date'] >= start_date) & (df['Date'] <= end_date)]\n",
    "\n",
    "print(selected_df)\n"
   ]
  },
  {
   "cell_type": "markdown",
   "id": "aa514e4e",
   "metadata": {},
   "source": [
    "#### Q13. To use the basic functions of pandas, what is the first and foremost necessary library that needs to be imported?"
   ]
  },
  {
   "cell_type": "markdown",
   "id": "0273715f",
   "metadata": {},
   "source": [
    "#### Ans- To use the basic functions of pandas, you need to import the pandas library itself. The most common convention is to import it using the alias pd. Here's how you would typically import pandas:"
   ]
  },
  {
   "cell_type": "code",
   "execution_count": 77,
   "id": "23849678",
   "metadata": {},
   "outputs": [],
   "source": [
    "import pandas as pd"
   ]
  },
  {
   "cell_type": "code",
   "execution_count": null,
   "id": "ef375bb4",
   "metadata": {},
   "outputs": [],
   "source": []
  }
 ],
 "metadata": {
  "kernelspec": {
   "display_name": "Python 3 (ipykernel)",
   "language": "python",
   "name": "python3"
  },
  "language_info": {
   "codemirror_mode": {
    "name": "ipython",
    "version": 3
   },
   "file_extension": ".py",
   "mimetype": "text/x-python",
   "name": "python",
   "nbconvert_exporter": "python",
   "pygments_lexer": "ipython3",
   "version": "3.9.13"
  }
 },
 "nbformat": 4,
 "nbformat_minor": 5
}
